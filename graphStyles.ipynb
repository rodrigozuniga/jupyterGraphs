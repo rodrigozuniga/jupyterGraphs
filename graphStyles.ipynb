{
 "cells": [
  {
   "cell_type": "code",
   "execution_count": 48,
   "id": "c16b331f-a1d5-4698-8d84-e8a2fac8417e",
   "metadata": {},
   "outputs": [],
   "source": [
    "#Graphs using Jupyter\n",
    "import numpy as np\n",
    "import pandas as pd\n",
    "import matplotlib.pyplot as plt"
   ]
  },
  {
   "cell_type": "code",
   "execution_count": null,
   "id": "0df90811",
   "metadata": {},
   "outputs": [],
   "source": [
    "plt.style.available"
   ]
  },
  {
   "cell_type": "code",
   "execution_count": null,
   "id": "dcdbff55-bcea-4ce7-a693-d92d0996b92c",
   "metadata": {},
   "outputs": [],
   "source": [
    "styles=['ggplot','fivethirtyeight','fast','grayscale']\n",
    "\n",
    "# make data\n",
    "x = np.linspace(0, 10, 100)\n",
    "y = 4 + 2 * np.sin(2 * x)\n",
    "\n",
    "fig,ax = plt.subplots(ncols=2,nrows=3,figsize=(20,20))\n",
    "\n",
    "plt.style.use('ggplot')\n",
    "plt.subplot(3,2,1)\n",
    "plt.plot(x, y, linewidth=2.0)\n",
    "plt.title('ggplot')\n",
    "\n",
    "plt.style.use('fivethirtyeight')\n",
    "plt.subplot(3,2,2)\n",
    "plt.plot(x**15, 2*y, linewidth=2.0)\n",
    "plt.title('fivethirtyeight')\n",
    "\n",
    "plt.style.use('fast')\n",
    "plt.subplot(3,2,3)\n",
    "plt.plot(np.cos(x), 2*y, linewidth=2.0)\n",
    "plt.title('fast')\n",
    "\n",
    "plt.style.use('grayscale')\n",
    "plt.subplot(3,2,4)\n",
    "plt.plot(np.tan(x), 2*y, linewidth=2.0)\n",
    "plt.title('grayscale')\n",
    "\n",
    "plt.style.use('seaborn')\n",
    "plt.subplot(3,2,5)\n",
    "plt.plot(np.sin(x), 2*y, linewidth=2.0)\n",
    "plt.title('seaborn')\n",
    "\n",
    "plt.suptitle('Subplots', color=\"blue\", fontsize=40)\n",
    "\n",
    "plt.show()\n",
    "\n"
   ]
  },
  {
   "cell_type": "code",
   "execution_count": null,
   "id": "f6130071-dcf6-49f1-a11d-74d3af91fc4b",
   "metadata": {},
   "outputs": [],
   "source": [
    "plt.subplot(2, 2, 1)\n",
    "plt.style.use('fivethirtyeight')\n",
    "plt.plot(x, y, linewidth=2.0)\n",
    "plt.title('ggplot')\n",
    "plt.show()"
   ]
  },
  {
   "cell_type": "code",
   "execution_count": null,
   "id": "6f1d4e52",
   "metadata": {},
   "outputs": [],
   "source": [
    "plt.style.use('grayscale')\n",
    "plt.plot(x, y, linewidth=2.0)\n",
    "plt.title('ggplot')\n",
    "plt.show()"
   ]
  },
  {
   "cell_type": "code",
   "execution_count": null,
   "id": "62129039",
   "metadata": {},
   "outputs": [],
   "source": [
    "x"
   ]
  }
 ],
 "metadata": {
  "kernelspec": {
   "display_name": "Python 3",
   "language": "python",
   "name": "python3"
  },
  "language_info": {
   "codemirror_mode": {
    "name": "ipython",
    "version": 3
   },
   "file_extension": ".py",
   "mimetype": "text/x-python",
   "name": "python",
   "nbconvert_exporter": "python",
   "pygments_lexer": "ipython3",
   "version": "3.9.12"
  }
 },
 "nbformat": 4,
 "nbformat_minor": 5
}
